{
 "cells": [
  {
   "cell_type": "markdown",
   "metadata": {},
   "source": [
    "# Defining the bounds of using radioactive isotope tracers to sense past groundwater recharge under transient state conditions"
   ]
  },
  {
   "cell_type": "markdown",
   "metadata": {},
   "source": [
    "This is the code accompanying the paper by Chmielarski et al. (2022) of the same name. The following code allows for the analysis of how radioactive isotope signatures in groundwater react to changes in various system paramaters (the half-life of the radioactive isotope, the Peclet number, the exchange between the mobile and immobile zones, and the ratio of water saturation in the immobile to mobile portions of the system). This exercise aims at assessing how these system parameters affect the efficacy of radioactive tracers to be used for sensing changes in groundwater recharge over time, which is here simulated by a step-change in groundwater velocity. \n",
    "\n",
    "Note, that this code can includes the 'DeHoog' script, which was developed by McCallum et al. (2020) using the de Hoog method (De Hoog et al., 1982) for inversing the Laplace transform, which applies a quotient-difference algorith. \n",
    "\n",
    "For full clarification, the analytical solution which is presented in this code can best be understood by following the supplementary documentation to the Chmielarski et al. (2022) paper, which presents a step-by-step solution. "
   ]
  },
  {
   "cell_type": "markdown",
   "metadata": {},
   "source": [
    "## Import python packages"
   ]
  },
  {
   "cell_type": "code",
   "execution_count": 69,
   "metadata": {},
   "outputs": [],
   "source": [
    "import numpy as np\n",
    "import scipy as sp\n",
    "import pylab as plt"
   ]
  },
  {
   "cell_type": "markdown",
   "metadata": {},
   "source": [
    "## de Hoog et al. (1982) implementation"
   ]
  },
  {
   "cell_type": "code",
   "execution_count": 70,
   "metadata": {},
   "outputs": [],
   "source": [
    "class deHoog:\n",
    "    \n",
    "    def __init__(self, M = 10, T = 100., alpha = 0. , tol = 1.e-9 , gamma = -999.):\n",
    "        \"\"\"\n",
    "        M: The number of laplace variables generated is 2N+1\n",
    "        T: The frequency of the transform (as a rule of thumb 2 tmax)\n",
    "        alpha : waitig on this variable\n",
    "        tol: tolerance of the transform\n",
    "        gamma: zero value or real component of the transformed variables\n",
    "        \"\"\"\n",
    "        self.M = int(M/2*2) \n",
    "        if self.M <2:\n",
    "            self.M = 2\n",
    "        self.T =  T \n",
    "        self.alpha = alpha\n",
    "        self.tol = tol\n",
    "        if gamma == -999.:\n",
    "            self.gamma =  self.alpha - np.log(self.tol)/(2.*self.T) \n",
    "        else:\n",
    "            self.gamma = gamma\n",
    "    \n",
    "    def pget(self):\n",
    "        dum=np.arange(0.,float(2.*self.M+1.),1.)\n",
    "        self.p = self.gamma + (dum * 1j * np.pi/self.T)\n",
    "         \n",
    "    def invlap(self,fp,t):  \n",
    "        #make and save the QD tables as the integral is time dependent \n",
    "        nt = np.size(t)\n",
    "        e=np.zeros((2*self.M+1,self.M+1), dtype = complex)\n",
    "        q=np.zeros((2*self.M,self.M+1), dtype = complex)\n",
    "        e[:,0] = 0. + 0. * 1j  \n",
    "        q[:,1] = fp[1:2*self.M+1]/fp[0:2*self.M]\n",
    "        q[0,1] = fp[1]/(fp[0]/2.)\n",
    "        for r in range(1,self.M+1):\n",
    "            mm = 2*(self.M-r)\n",
    "            e[0:mm+1,r] = q[1:mm+2,r] - q[0:mm+1,r] + e[1:mm+2,r-1]\n",
    "            if r < self.M:\n",
    "                rr = r+1\n",
    "                mm = 2*(self.M-rr)+1\n",
    "                q[0:mm+1,rr]= q[1:mm+2,rr-1]*e[1:mm+2,rr-1]/e[0:mm+1,rr-1]\n",
    "        d=np.zeros(2*self.M+1,dtype=complex)\n",
    "        d[0]=fp[0]/2.\n",
    "        #d[1::2] = -q[0,1:]\n",
    "        #d[2::2] = -e[0,1:] \n",
    "        for i in range(1,self.M+1):\n",
    "            d[2*i-1] = -q[0,i]\n",
    "            d[2*i] = -e[0,i]\n",
    "        z=np.exp(1j * np.pi * t / self.T)\n",
    "        #print(z)\n",
    "        A=np.zeros((2*self.M+2,nt),dtype = complex)\n",
    "        B=np.zeros((2*self.M+2,nt),dtype = complex)\n",
    "        #A = np.zeros((self.M+1,nt),dtype=complex)\n",
    "        A[1,:] = d[0]\n",
    "        #B=np.copy(A)\n",
    "        B[:2,:] = 1. + 0. * 1j\n",
    "        for i in range(1,2*self.M):\n",
    "            n=i+1\n",
    "            #print(n)\n",
    "            A[n,:] = A[n-1,:]+d[i]*A[n-2,:]*z\n",
    "            B[n,:] = B[n-1,:]+d[i]*B[n-2,:]*z\n",
    "        h2M = complex(.5,0.) * ( complex(1.,0.) + ( d[2*self.M-2] - d[2*self.M-1]) * z ) \n",
    "        R2M = -h2M * ( complex(1.,0.) - ( complex(1.,0.) + ( d[-1] * z ) / h2M**2 ) ** 0.5 )  \n",
    "        Ap2M = A[-2,:] + R2M * A[-3,:]\n",
    "        Bp2M = B[-2,:] + R2M * B[-3,:]\n",
    "        dum = (Ap2M/Bp2M)\n",
    "        f = (1./self.T) * np.exp ( self.gamma * t ) * dum.real\n",
    "        return(f)"
   ]
  },
  {
   "cell_type": "markdown",
   "metadata": {},
   "source": [
    "## Implementing the analytical solution"
   ]
  },
  {
   "cell_type": "code",
   "execution_count": 71,
   "metadata": {},
   "outputs": [],
   "source": [
    "def trap(f,x):\n",
    "    F = 0.\n",
    "    for i in range(1,len(x),1):\n",
    "        F += (f[i]+f[i-1])/2.*(x[i]-x[i-1])\n",
    "    return(F)\n",
    "\n",
    "def master(x,v,D,mu,gamma,c0):\n",
    "    #x is the length of the flowlines\n",
    "    #v is the velocity of the groundwater\n",
    "    #D is the diffusion coefficient\n",
    "    #mu covers all the first-order reaction terms, including the decay component of the equation\n",
    "    #gamma covers all the zero-order or source/production terms of the equation\n",
    "    #c0 is the initial concentration of the radioactive isotope in the system\n",
    "    near_zero =1e-15 \n",
    "    A = (v-np.sqrt(v**2+4.*D*mu))/(2*D)\n",
    "    B = (v+np.sqrt(v**2+4.*D*mu))/(2*D)\n",
    "    if type(gamma):\n",
    "        gamma = np.ones_like(x)*gamma\n",
    "    L = x[-1]\n",
    "    dx = x[1]-x[0]\n",
    "    c2 = A*c0*np.exp(A*L)\n",
    "    if gamma[0] != 0:\n",
    "        c2+= A*(np.exp(A*L)*trap(gamma*np.exp(-A*x\n",
    "            )/np.sqrt(v**2+4.*D*mu),x))\n",
    "        c2-= B*(np.exp(B*L)*trap(gamma*np.exp(-B*x\n",
    "            )/np.sqrt(v**2+4.*D*mu),x))\n",
    "    c2/=  A*np.exp(A*L) -  B*np.exp(B*L)\n",
    "    c1 = c0 - c2\n",
    "    c = c1*np.exp(A*x) \n",
    "    if gamma[0] != 0:\n",
    "        dum1 = np.cumsum(((gamma[:-1]*np.exp(-A*x[:-1])/np.sqrt(v**2+4.*D*mu))+\n",
    "                                           (gamma[1:]*np.exp(-A*x[1:])/np.sqrt(v**2+4.*D*mu)))/2.*dx)\n",
    "        dum1 = np.log(gamma[:-1])-A*x[:-1]-np.log(np.sqrt(v**2+4.*D*mu))\n",
    "        dum1 = np.exp(dum1)\n",
    "        dum3 = np.log(gamma[1:])-A*x[1:]-np.log(np.sqrt(v**2+4.*D*mu))\n",
    "        dum3 = np.exp(dum3)\n",
    "        dum1 = np.cumsum((dum1+dum3)/2.*dx)\n",
    "        dum2 = np.log(gamma[:-1])-B*x[:-1]-np.log(np.sqrt(v**2+4.*D*mu))\n",
    "        dum2 = np.exp(dum2)\n",
    "        dum3 = np.log(gamma[1:])-B*x[1:]-np.log(np.sqrt(v**2+4.*D*mu))\n",
    "        dum3 = np.exp(dum3)\n",
    "        dum2 = np.cumsum((dum2+dum3)/2.*dx)\n",
    "        c[1:] += np.exp(A*x[1:])*dum1\n",
    "        dum4 = np.exp(np.log(c2-dum2)+(B*x[1:]))\n",
    "        for i in range(len(x)-1):\n",
    "            term = c2-dum2[i]\n",
    "            if abs(term.real)<near_zero and abs(term.imag) < near_zero:\n",
    "                dum4[i] = np.complex(0.,0.)\n",
    "        c[1:] += dum4\n",
    "        c[0] += c2\n",
    "    else:\n",
    "        c+= np.exp(np.log(c2)+B*x)\n",
    "    return(c)\n",
    "\n",
    "def Soln(Pe,lam,alpha,beta,R,x,bigT):\n",
    "    mu= (lam)+beta*(alpha)*(1 - (alpha/(alpha+lam)))\n",
    "    \n",
    "    ####Setting up the initial steady state\n",
    "    #this is the steady state instant before the step change is applied \n",
    "    c_0 = master(x,1,1/(Pe),mu/R,0,1.) #this is the initial concentration in the mobile zone\n",
    "    c_im0 = c_0*(alpha/(alpha+lam)) #this is the initial concentration in the immobile zone\n",
    "    \n",
    "    ####Generating the Laplace variables\n",
    "    #T should be as close to the biggest value of bigT as possible and expressed in log terms\n",
    "    #note, that T here is a function of the imported deHoog script, not dimensionless time, which is bigT\n",
    "    #M is half the number of Laplace variables (smoother function = less variables, needs at least 20)\n",
    "    Tmax = [0.,10.,100.]\n",
    "    c_bigT= np.zeros((len(bigT),len(x))) \n",
    "    c_imbigT= np.zeros_like(c_bigT)\n",
    "    for k in range(1,3):\n",
    "        L=deHoog(M = 100, T = Tmax[k]) #here we call on the accompanying \"deHoog\" script\n",
    "        L.pget() #this generates the Laplace variables\n",
    "        cs = np.zeros((len(L.p),len(x)),dtype = complex)\n",
    "        c_ims = np.zeros((len(L.p),len(x)),dtype = complex)\n",
    "        #cs generates a number of imaginary variables, so we need to loop the function for each imaginary variable\n",
    "        for i in range(len(L.p)): #for each number in the all the Laplace variables that were generated...\n",
    "            mu= L.p[i] + lam+(beta*alpha)*(1 - (alpha/(alpha+lam+L.p[i]))) #adjust mu\n",
    "            gamma= (beta*alpha*(c_im0/(L.p[i]+alpha+lam)))+c_0 #adjust gamma\n",
    "            #the Heaviside distribution is included as the c0 = 1/L.p[i] \n",
    "            cs[i,:]= master(x,1,1/Pe,mu,gamma,1/L.p[i])\n",
    "            c_ims[i,:] = cs[i,:]*(alpha/(alpha+lam))\n",
    "        #Invert the laplace spec to real space \n",
    "\n",
    "        for j in range(len(bigT)): #for each value of bigT...\n",
    "            if bigT[j] > Tmax[k-1]/10. and bigT[j] <= Tmax[k]/10.:\n",
    "                for i in range(len(x)):\n",
    "                    c_bigT[j,i] = L.invlap(cs[:,i],bigT[j])\n",
    "                    c_imbigT[j,i] = L.invlap(c_ims[:,i],bigT[j])\n",
    "        \n",
    "    ####Finding the new steady state\n",
    "    #this is the final equilibrium that is reached after the step change has been applied to the system\n",
    "    mu= (lam)+beta*(alpha)*(1 - (alpha/(alpha+lam)))\n",
    "    c_new = master(x,1,1/(Pe),mu,0,1.) #new equilibrium in the mobile zone\n",
    "    c_imnew = c_new*(alpha/(alpha+lam)) #new equilibrium in the immobile zone\n",
    "    \n",
    "    return(c_0,c_im0,c_new,c_imnew,c_bigT,c_imbigT)\n"
   ]
  },
  {
   "cell_type": "markdown",
   "metadata": {},
   "source": [
    "## Example of how to run the solution\n",
    "See Chmielarski et al. (2022) for full description of variables."
   ]
  },
  {
   "cell_type": "code",
   "execution_count": 72,
   "metadata": {},
   "outputs": [],
   "source": [
    "Pe = 1. #dimensionless Peclet number\n",
    "lam = 1. #dimensionless decay coefficient\n",
    "alpha = 1. #dimensionless exchange coefficient between mobile and immobile domain\n",
    "beta = 1. #ratio of mobile to immobile porosity\n",
    "R = 0.1 #ratio of old to net flow rate (< 1 recharge increase, > 1 recharge decreases)\n",
    "x =  np.arange(0.,1.01,0.01)\n",
    "\n",
    "bigT = np.array([0.1, 0.2, 0.5, 1.0, 10.0]) #dimensionless time of fluching volumes to eveluate the solution at\n",
    "\n",
    "c_0,c_im0,c_new,c_imnew,c_bigT,c_imbigT = Soln(Pe,lam,alpha,beta,R,x,bigT)\n"
   ]
  },
  {
   "cell_type": "markdown",
   "metadata": {},
   "source": [
    "## Example of how to plot data"
   ]
  },
  {
   "cell_type": "code",
   "execution_count": 73,
   "metadata": {},
   "outputs": [
    {
     "data": {
      "text/plain": [
       "<matplotlib.legend.Legend at 0x19dfbd3eac8>"
      ]
     },
     "execution_count": 73,
     "metadata": {},
     "output_type": "execute_result"
    },
    {
     "data": {
      "image/png": "[encoded data removed]",
      "text/plain": [
       "<Figure size 432x288 with 1 Axes>"
      ]
     },
     "metadata": {
      "needs_background": "light"
     },
     "output_type": "display_data"
    }
   ],
   "source": [
    "#plot initial solution\n",
    "plt.plot(x,c_0, label = 'Initial')\n",
    "\n",
    "#loop through bigT values\n",
    "for i in range(len(bigT)):\n",
    "    plt.plot(x,c_bigT[i,:], label = str(bigT[i]))\n",
    "\n",
    "#plot final solution\n",
    "plt.plot(x,c_new, label = 'Final')\n",
    "\n",
    "#Add figure details\n",
    "plt.xlabel('x/L')\n",
    "plt.ylabel('c/c$_0$')\n",
    "plt.legend()"
   ]
  },
  {
   "cell_type": "markdown",
   "metadata": {},
   "source": [
    "Relevant references:\n",
    "\n",
    "Chmielarski, M., Dogramaci, S., Cook, P.G., & McCallum, J.L. (2022). Defining the bounds of using radioactive isotope tracers to sense past groundwater recharge under transient state conditions. Geophysical Research Letters XXX\n",
    "\n",
    "de Hoog, F.R., Knight, J.H., & Stokes, A.N. (1982). An improved method for numerical inversion of Laplace transforms. Society for Industrial and Applied Mathematics Journal of Science and Statistical Computing 3(3): 357-366.\n",
    "\n",
    "McCallum, J.L., Höhne, A., Shaper, J.L., Shanafield, M., Banks, E.W., Posselt, M., Batelaan, O., & Lewandowski, J. (2020b). A numerical stream transport modelling approach including multiple conceptualizations of hyporheic exchange and spatial variability to assess contaminant removal. Water Resources Research 56, e2019WR024987. https://doi.org/10.1029/2019WR024987."
   ]
  },
  {
   "cell_type": "code",
   "execution_count": null,
   "metadata": {},
   "outputs": [],
   "source": []
  }
 ],
 "metadata": {
  "kernelspec": {
   "display_name": "Python 3",
   "language": "python",
   "name": "python3"
  },
  "language_info": {
   "codemirror_mode": {
    "name": "ipython",
    "version": 3
   },
   "file_extension": ".py",
   "mimetype": "text/x-python",
   "name": "python",
   "nbconvert_exporter": "python",
   "pygments_lexer": "ipython3",
   "version": "3.6.13"
  }
 },
 "nbformat": 4,
 "nbformat_minor": 4
}
